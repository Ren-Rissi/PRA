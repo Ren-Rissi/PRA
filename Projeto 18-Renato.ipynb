{
 "cells": [
  {
   "cell_type": "markdown",
   "metadata": {},
   "source": [
    "Projeto 18\n",
    "Resde modular espacial waxman\n",
    "1 a 5 grupos\n",
    "sorteia um centro pra gaussiana e popula pela probabilidade da gaussiana (5 vezes)\n",
    "conecta por monte carlo\n",
    "caminhada aleatória (100000 instantes de tempo)\n",
    "fazer gráfico de ativação vs topologia(grau)\n",
    "torna a rede dirigida\n",
    "    tirando arestas\n",
    "    \n",
    "variar:\n",
    "    - numero de comunidades\n",
    "    - alfa\n",
    "    - numero de nós por comunidades\n",
    "    - grau de direcionalidade\n",
    "    - sigma da gussiana"
   ]
  },
  {
   "cell_type": "code",
   "execution_count": null,
   "metadata": {
    "collapsed": true
   },
   "outputs": [],
   "source": [
    "import numpy as np\n",
    "import matplotlib.pyplot as plt\n",
    "import networkx as nx\n",
    "import random\n",
    "%matplotlib inline\n",
    "\n",
    "class nodo():\n",
    "    def __init__(self, x, y, tag):\n",
    "        self.a = 0     #Indica a ativação\n",
    "        self.x = x     #Coordenada x\n",
    "        self.y = y     #Coordenada y\n",
    "        self.sons = [] #Lista de nós conectados\n",
    "        self.tag = tag #Índice do nó\n",
    "    \n",
    "    def ativa(self):\n",
    "        self.a += 1    #Contabiliza a ativação do nó\n",
    "        \n",
    "        \n",
    "class netw():\n",
    "    def __init__(self, comm, popu, gamma, sigma):\n",
    "        #precisa criar o grafo lidando com matriz de adjacências e lista de filhos\n",
    "        #cria cada comunidade por Waxman\n",
    "        self.comm = comm\n",
    "        self.popu = popu\n",
    "        self.adjacency = np.zeros((comm*popu,comm*popu))\n",
    "        \n",
    "        \n",
    "\n",
    "    def liga(self,one,other):\n",
    "        one.sons.append(other)\n",
    "        self.adjacency[one.tag,other.tag] = 1"
   ]
  }
 ],
 "metadata": {
  "kernelspec": {
   "display_name": "Python 3",
   "language": "python",
   "name": "python3"
  },
  "language_info": {
   "codemirror_mode": {
    "name": "ipython",
    "version": 3
   },
   "file_extension": ".py",
   "mimetype": "text/x-python",
   "name": "python",
   "nbconvert_exporter": "python",
   "pygments_lexer": "ipython3",
   "version": "3.6.0"
  }
 },
 "nbformat": 4,
 "nbformat_minor": 2
}
