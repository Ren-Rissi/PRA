{
 "cells": [
  {
   "cell_type": "markdown",
   "metadata": {},
   "source": [
    "Projeto 7: Aplicar PCA nos conjutos de dados do projeto 6"
   ]
  },
  {
   "cell_type": "code",
   "execution_count": 27,
   "metadata": {
    "collapsed": false
   },
   "outputs": [
    {
     "name": "stdout",
     "output_type": "stream",
     "text": [
      "14.973898281   [ 0.03550877 -0.26546497  0.86269251  0.42898614]\n",
      "2.95875226751   [ 0.91415124 -0.22438697  0.05865218 -0.33247243]\n"
     ]
    },
    {
     "data": {
      "image/png": "[encoded data removed]",
      "text/plain": [
       "<matplotlib.figure.Figure at 0x18aeaf167f0>"
      ]
     },
     "metadata": {},
     "output_type": "display_data"
    }
   ],
   "source": [
    "import numpy as np\n",
    "import numpy.linalg as la\n",
    "import matplotlib.gridspec as gridspec\n",
    "import matplotlib.pyplot as plt\n",
    "%matplotlib inline\n",
    "\n",
    "data = np.array([[5.8,5.5,5.3,5.4,5.4,5.5,5.6,6.4,7.2,6.7,5.5,5.1,5.2,5.4,5.2,4.8,5.1,4.9,5.3,5.0,5.0],\n",
    "[19.6,19.3,17.9,17.2,16.1,14.7,14.0,13.3,12.3,12.9,11.6,10.6,10.3,10.3,9.8,9.5,9.4,9.4,9.3,9.1,8.8],\n",
    "[5.8,6.1,5.7,5.7,4.8,5.1,4.9,10.8,11.0,9.8,9.3,8.2,8.8,8.7,6.3,8.5,8.3,6.9,7.2,8.0,6.0],\n",
    "[8.0,7.9,6.0,5.9,5.6,5.2,5.1,5.0,4.9,4.8,4.4,4.1,4.0,4.0,3.9,3.9,4.0,3.9,4.0,3.9,3.8]])\n",
    "cov_t = np.cov(data)\n",
    "w,v = la.eig(cov_t)\n",
    "ind = np.argsort(w)[::-1]\n",
    "w_dec=w[ind]\n",
    "v_dec=v[ind]\n",
    "print(w_dec[0],\" \",v_dec[0])\n",
    "print(w_dec[1],\" \",v_dec[1])\n",
    "PCA = np.matmul(v_dec,data)\n",
    "a=plt.plot(PCA[0],PCA[1],'.')"
   ]
  },
  {
   "cell_type": "code",
   "execution_count": 30,
   "metadata": {
    "collapsed": false
   },
   "outputs": [
    {
     "name": "stdout",
     "output_type": "stream",
     "text": [
      "[[  3.43834317e+00   3.72323917e+00   2.92763770e+00   3.07411544e+00\n",
      "    2.46100781e+00   2.92342294e+00   2.89736218e+00   8.15858187e+00\n",
      "    8.58209375e+00   7.32693075e+00   7.02648398e+00   6.20008783e+00\n",
      "    6.75799509e+00   6.67882760e+00   4.69109768e+00   6.65445719e+00\n",
      "    6.56201643e+00   5.30424655e+00   5.64670292e+00   6.33639868e+00\n",
      "    4.64775453e+00]\n",
      " [ -1.41550421e+00  -1.57159060e+00  -8.32042347e-01  -5.50309100e-01\n",
      "   -2.56528664e-01   2.99612845e-01   5.69615656e-01   1.83730263e+00\n",
      "    2.83798827e+00   2.20914510e+00   1.50752955e+00   1.40148036e+00\n",
      "    1.62865012e+00   1.80561515e+00   1.62746040e+00   1.45815079e+00\n",
      "    1.70985718e+00   1.47816113e+00   1.85060873e+00   1.70140974e+00\n",
      "    1.68466872e+00]\n",
      " [ -2.20722397e+01  -2.17636560e+01  -2.00717175e+01  -1.94323064e+01\n",
      "   -1.81778071e+01  -1.69095527e+01  -1.62280154e+01  -1.70155332e+01\n",
      "   -1.63227805e+01  -1.64846427e+01  -1.47990107e+01  -1.34903491e+01\n",
      "   -1.33502156e+01  -1.33817829e+01  -1.23443614e+01  -1.24228145e+01\n",
      "   -1.23795623e+01  -1.20188954e+01  -1.21072739e+01  -1.19972304e+01\n",
      "   -1.12831413e+01]\n",
      " [  3.79873399e+00   3.51722478e+00   2.20290719e+00   2.22091020e+00\n",
      "    2.49298286e+00   2.19564508e+00   2.30485251e+00  -1.53267262e-01\n",
      "    1.80791912e-02   2.68923264e-01  -7.18292448e-02   1.58882430e-01\n",
      "   -1.36914738e-01  -3.00531894e-02   9.70420432e-01  -1.25206705e-01\n",
      "    1.50887203e-01   6.45105072e-01   7.23817592e-01   2.04250600e-01\n",
      "    1.06348126e+00]]\n"
     ]
    }
   ],
   "source": [
    "print(PCA)"
   ]
  },
  {
   "cell_type": "code",
   "execution_count": null,
   "metadata": {
    "collapsed": true
   },
   "outputs": [],
   "source": []
  }
 ],
 "metadata": {
  "kernelspec": {
   "display_name": "Python 3",
   "language": "python",
   "name": "python3"
  },
  "language_info": {
   "codemirror_mode": {
    "name": "ipython",
    "version": 3
   },
   "file_extension": ".py",
   "mimetype": "text/x-python",
   "name": "python",
   "nbconvert_exporter": "python",
   "pygments_lexer": "ipython3",
   "version": "3.6.0"
  }
 },
 "nbformat": 4,
 "nbformat_minor": 2
}
