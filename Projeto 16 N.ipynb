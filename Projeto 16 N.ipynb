{
 "cells": [
  {
   "cell_type": "markdown",
   "metadata": {},
   "source": [
    "Implementar uma rede perceptron (ou usar pronto)\n",
    "algorítimo de treinamento pode ser pronto\n",
    "\n",
    "Variar: \n",
    "- número de camadas\n",
    "- número de neurônios por camada\n",
    "- Tipo de estímulos \n",
    "- Tipo de padrões\n",
    "\n",
    "Verificar desempenho e apresentar em uma matriz de confusão"
   ]
  },
  {
   "cell_type": "code",
   "execution_count": 3,
   "metadata": {
    "collapsed": false
   },
   "outputs": [
    {
     "ename": "NameError",
     "evalue": "name 'git' is not defined",
     "output_type": "error",
     "traceback": [
      "\u001b[0;31m---------------------------------------------------------------------------\u001b[0m",
      "\u001b[0;31mNameError\u001b[0m                                 Traceback (most recent call last)",
      "\u001b[0;32m<ipython-input-3-b2a26fa071dc>\u001b[0m in \u001b[0;36m<module>\u001b[0;34m()\u001b[0m\n\u001b[1;32m      1\u001b[0m \u001b[1;32mimport\u001b[0m \u001b[0mnumpy\u001b[0m \u001b[1;32mas\u001b[0m \u001b[0mnp\u001b[0m\u001b[1;33m\u001b[0m\u001b[0m\n\u001b[0;32m----> 2\u001b[0;31m \u001b[0mgit\u001b[0m\u001b[1;33m\u001b[0m\u001b[0m\n\u001b[0m",
      "\u001b[0;31mNameError\u001b[0m: name 'git' is not defined"
     ]
    }
   ],
   "source": [
    "import numpy as np\n",
    "git"
   ]
  },
  {
   "cell_type": "markdown",
   "metadata": {},
   "source": [
    "https://docs.scipy.org/doc/scipy-0.19.0/reference/generated/scipy.io.loadmat.html\n",
    "\n",
    "scipy.io.loadmat(file_name, mdict=None, appendmat=True, **kwargs)[source]\n",
    "Load MATLAB file.\n",
    "\n",
    "Parameters:\n",
    "\n",
    "file_name : str\n",
    "\n",
    "Name of the mat file (do not need .mat extension if appendmat==True). Can also pass open file-like object.\n",
    "\n",
    "mdict : dict, optional\n",
    "\n",
    "Dictionary in which to insert matfile variables.\n",
    "\n",
    "appendmat : bool, optional\n",
    "\n",
    "True to append the .mat extension to the end of the given filename, if not already present.\n",
    "\n",
    "byte_order : str or None, optional\n",
    "None by default, implying byte order guessed from mat file. Otherwise can be one of (‘native’, ‘=’, ‘little’, ‘<’, ‘BIG’, ‘>’).\n",
    "mat_dtype : bool, optional\n",
    "If True, return arrays in same dtype as would be loaded into MATLAB (instead of the dtype with which they are saved).\n",
    "squeeze_me : bool, optional\n",
    "Whether to squeeze unit matrix dimensions or not.\n",
    "chars_as_strings : bool, optional\n",
    "Whether to convert char arrays to string arrays.\n",
    "matlab_compatible : bool, optional\n",
    "Returns matrices as would be loaded by MATLAB (implies squeeze_me=False, chars_as_strings=False, mat_dtype=True, struct_as_record=True).\n",
    "struct_as_record : bool, optional\n",
    "Whether to load MATLAB structs as numpy record arrays, or as old-style numpy arrays with dtype=object. Setting this flag to False replicates the behavior of scipy version 0.7.x (returning numpy object arrays). The default setting is True, because it allows easier round-trip load and save of MATLAB files.\n",
    "verify_compressed_data_integrity : bool, optional\n",
    "Whether the length of compressed sequences in the MATLAB file should be checked, to ensure that they are not longer than we expect. It is advisable to enable this (the default) because overlong compressed sequences in MATLAB files generally indicate that the files have experienced some sort of corruption.\n",
    "variable_names : None or sequence\n",
    "If None (the default) - read all variables in file. Otherwise variable_names should be a sequence of strings, giving names of the matlab variables to read from the file. The reader will skip any variable with a name not in this sequence, possibly saving some read processing.\n",
    "Returns:\t\n",
    "mat_dict : dict\n",
    "dictionary with variable names as keys, and loaded matrices as values."
   ]
  },
  {
   "cell_type": "code",
   "execution_count": null,
   "metadata": {
    "collapsed": true
   },
   "outputs": [],
   "source": []
  },
  {
   "cell_type": "code",
   "execution_count": null,
   "metadata": {
    "collapsed": true
   },
   "outputs": [],
   "source": []
  }
 ],
 "metadata": {
  "kernelspec": {
   "display_name": "Python 3",
   "language": "python",
   "name": "python3"
  },
  "language_info": {
   "codemirror_mode": {
    "name": "ipython",
    "version": 3
   },
   "file_extension": ".py",
   "mimetype": "text/x-python",
   "name": "python",
   "nbconvert_exporter": "python",
   "pygments_lexer": "ipython3",
   "version": "3.6.0"
  }
 },
 "nbformat": 4,
 "nbformat_minor": 2
}
