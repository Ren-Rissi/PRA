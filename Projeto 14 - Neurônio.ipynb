{
 "cells": [
  {
   "cell_type": "markdown",
   "metadata": {},
   "source": [
    "Neurônio de duas entradas (x1, x2) e uma constante extra (c), fazer para o caso geral com qualquer peso, e uma saída (Y), soma (x1w1+x2w2+c), se s é maior ou igual a 0, y=1, caso contrário y=-1\n",
    "\n",
    "Ler duas espécies da íris e encontrar a posição e inclinação da reta para separar as espécies"
   ]
  },
  {
   "cell_type": "code",
   "execution_count": 95,
   "metadata": {
    "collapsed": false
   },
   "outputs": [
    {
     "data": {
      "image/png": "[encoded data removed]",
      "text/plain": [
       "<matplotlib.figure.Figure at 0x21d0b3b9080>"
      ]
     },
     "metadata": {},
     "output_type": "display_data"
    }
   ],
   "source": [
    "import numpy as np\n",
    "import matplotlib.pyplot as plt\n",
    "import matplotlib.gridspec as gridspec\n",
    "from sklearn.datasets import load_iris\n",
    "from sklearn.decomposition import PCA\n",
    "%matplotlib inline\n",
    "\n",
    "def plot(img,txt,n):\n",
    "    plt.title('Gráfico '+n)\n",
    "    plt.text(160,35,txt,bbox=dict(facecolor='white', alpha=0.6))\n",
    "    plt.gray()\n",
    "    a=plt.imshow(np.matrix.transpose(np.fliplr(img)))\n",
    "    plt.tight_layout()\n",
    "    pass\n",
    "\n",
    "def neuronio(x1,x2,w,ww,cc):\n",
    "    c = cc\n",
    "    w1 = w\n",
    "    w2 = ww\n",
    "    s = (x1*w1)+(x2*w2)+c\n",
    "    if(s>=0):return(1)\n",
    "    else:return(0)\n",
    "    pass\n",
    "\n",
    "img1 = np.zeros((201,201))\n",
    "img2 = np.zeros((201,201))\n",
    "img3 = np.zeros((201,201))\n",
    "img4 = np.zeros((201,201))\n",
    "\n",
    "for i in range(201):\n",
    "    for j in range(201):\n",
    "        img1[i,j]= neuronio(i-100,j-100, 1,1,0)\n",
    "        img2[i,j]= neuronio(i-100,j-100, 1,1,20)\n",
    "        img3[i,j]= neuronio(i-100,j-100, -30,-8,2)\n",
    "        img4[i,j]= neuronio(i-100,j-100, 10,-4,12)\n",
    "        pass\n",
    "    pass\n",
    "\n",
    "\n",
    "fig = plt.figure(1,figsize=(13.8,13.8))\n",
    "gridspec.GridSpec(1,4)\n",
    "\n",
    "plt.subplot2grid((1,4), (0,0))\n",
    "plot(img1,'C=0\\nW1=1\\nW2=1','1')\n",
    "\n",
    "plt.subplot2grid((1,4), (0,1))\n",
    "plot(img2,'C=20\\nW1=1\\nW2=1','2')\n",
    "\n",
    "plt.subplot2grid((1,4), (0,2))\n",
    "plot(img3,'C=2\\nW1=-30\\nW2=-8','3')\n",
    "\n",
    "plt.subplot2grid((1,4), (0,3))\n",
    "plot(img4,'C=12\\nW1=10\\nW2=-4','4')"
   ]
  },
  {
   "cell_type": "code",
   "execution_count": 116,
   "metadata": {
    "collapsed": false
   },
   "outputs": [
    {
     "data": {
      "text/plain": [
       "<matplotlib.collections.PathCollection at 0x21d0d0d5be0>"
      ]
     },
     "execution_count": 116,
     "metadata": {},
     "output_type": "execute_result"
    },
    {
     "data": {
      "image/png": "[encoded data removed]",
      "text/plain": [
       "<matplotlib.figure.Figure at 0x21d0b9e16d8>"
      ]
     },
     "metadata": {},
     "output_type": "display_data"
    }
   ],
   "source": [
    "iris = load_iris()\n",
    "data = iris.data[0:100,:]\n",
    "targ = iris.target[0:100]\n",
    "pca = PCA(n_components=2).fit(data)\n",
    "pca_2d = pca.transform(data)\n",
    "pca_2d\n",
    "plt.scatter(pca_2d[:50, 0], pca_2d[:50, 1], c='green', marker='s')\n",
    "plt.scatter(pca_2d[51:100, 0], pca_2d[51:100, 1],  c='blue', marker='s')"
   ]
  },
  {
   "cell_type": "code",
   "execution_count": 120,
   "metadata": {
    "collapsed": false
   },
   "outputs": [
    {
     "data": {
      "image/png": "[encoded data removed]",
      "text/plain": [
       "<matplotlib.figure.Figure at 0x21d0d0c2978>"
      ]
     },
     "metadata": {},
     "output_type": "display_data"
    }
   ],
   "source": [
    "neuronio(i-50,j-50, -1,-1,1)"
   ]
  },
  {
   "cell_type": "code",
   "execution_count": null,
   "metadata": {
    "collapsed": true
   },
   "outputs": [],
   "source": []
  }
 ],
 "metadata": {
  "kernelspec": {
   "display_name": "Python 3",
   "language": "python",
   "name": "python3"
  },
  "language_info": {
   "codemirror_mode": {
    "name": "ipython",
    "version": 3
   },
   "file_extension": ".py",
   "mimetype": "text/x-python",
   "name": "python",
   "nbconvert_exporter": "python",
   "pygments_lexer": "ipython3",
   "version": "3.6.0"
  }
 },
 "nbformat": 4,
 "nbformat_minor": 2
}
