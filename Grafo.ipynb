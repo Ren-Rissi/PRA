{
 "cells": [
  {
   "cell_type": "code",
   "execution_count": 3,
   "metadata": {
    "collapsed": false
   },
   "outputs": [],
   "source": [
    "import numpy as np\n",
    "import matplotlib.pyplot as plt\n",
    "import networkx as nx\n",
    "import random\n",
    "import pylab\n",
    "%matplotlib inline\n",
    "\n",
    "class grafo():\n",
    "    def __init__(self, n):\n",
    "        self.gra = [[0 for x in range(n) ] for x in range(n)]\n",
    "        self.n = n\n",
    "        return\n",
    "    def muda(self, P):\n",
    "        for x in range(self.n):\n",
    "            for y in range(self.n):\n",
    "                if x <= y and self.gra[x][y]==0:\n",
    "                    self.gra[x][y] = 1 if random.random() < P else 0\n",
    "        return\n",
    "    def reset(self):\n",
    "        self.gra = [[0 for x in range(self.n) ] for x in range(self.n)]\n",
    "        return\n",
    "    def gegrafo(self):\n",
    "        G = nx.Graph()\n",
    "        G.add_node(self.n -1)\n",
    "        for j in range(self.n):\n",
    "            for i in range(self.n):\n",
    "                if self.gra[j][i] == 1:\n",
    "                    G.add_edge(i,j)\n",
    "        nx.draw_circular(G)\n",
    "        pylab.draw()\n",
    "        pylab.pause(0.5)\n",
    "        pylab.close()\n",
    "        return(G)"
   ]
  },
  {
   "cell_type": "code",
   "execution_count": 4,
   "metadata": {
    "collapsed": false
   },
   "outputs": [],
   "source": [
    "mat= grafo(60)\n",
    "while(True):\n",
    "    mat.muda(0.001)\n",
    "    G = mat.gegrafo()\n",
    "    for i in nx.connected_components(G):\n",
    "        a = i\n",
    "    if len(a)>= mat.n: break"
   ]
  },
  {
   "cell_type": "code",
   "execution_count": null,
   "metadata": {
    "collapsed": true
   },
   "outputs": [],
   "source": []
  }
 ],
 "metadata": {
  "kernelspec": {
   "display_name": "Python 3",
   "language": "python",
   "name": "python3"
  },
  "language_info": {
   "codemirror_mode": {
    "name": "ipython",
    "version": 3
   },
   "file_extension": ".py",
   "mimetype": "text/x-python",
   "name": "python",
   "nbconvert_exporter": "python",
   "pygments_lexer": "ipython3",
   "version": "3.6.0"
  }
 },
 "nbformat": 4,
 "nbformat_minor": 0
}
