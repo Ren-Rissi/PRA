{
 "cells": [
  {
   "cell_type": "markdown",
   "metadata": {},
   "source": [
    "Projeto 5: Histograma"
   ]
  },
  {
   "cell_type": "code",
   "execution_count": 32,
   "metadata": {
    "collapsed": false
   },
   "outputs": [
    {
     "ename": "SyntaxError",
     "evalue": "invalid syntax (<ipython-input-32-fd8af0f83806>, line 6)",
     "output_type": "error",
     "traceback": [
      "\u001b[0;36m  File \u001b[0;32m\"<ipython-input-32-fd8af0f83806>\"\u001b[0;36m, line \u001b[0;32m6\u001b[0m\n\u001b[0;31m    R =\u001b[0m\n\u001b[0m        ^\u001b[0m\n\u001b[0;31mSyntaxError\u001b[0m\u001b[0;31m:\u001b[0m invalid syntax\n"
     ]
    }
   ],
   "source": [
    "import numpy as np\n",
    "import matplotlib.pyplot as plt\n",
    "\n",
    "%matplotlib inline\n",
    "\n"
   ]
  },
  {
   "cell_type": "code",
   "execution_count": 35,
   "metadata": {
    "collapsed": false
   },
   "outputs": [],
   "source": [
    "#% de presenças em plenario durante o ano de 2016, dados retirados de http://www2.camara.leg.br/\n",
    "pres = np.array([84.0,84.1,74.5,100.0,100.0,98.9,78.7,95.7,73.4,95.7,91.5,90.4,85.1,97.9,81.9,100.0,87.2,84.0,87.2,97.9,85.9,87.2,91.5,\n",
    "        89.4,92.6,94.7,94.7,90.4,79.8,97.9,93.3,90.0,90.7,93.0,92.6,94.7,93.6,30.0,100.0,94.7,57.3,77.7,100.0,87.2,97.9,89.4,\n",
    "        88.9,96.8,84.0,61.7,97.9,90.4,88.3,96.8,98.9,87.2,71.3,95.7,100.0,85.1,93.0,92.6,83.0,87.2,96.8,89.4,92.6,79.8,90.4,\n",
    "        93.6,77.7,84.0,87.2,96.8,91.5,88.3,91.5,87.2,86.2,90.7,93.6,97.9,85.1,88.9,91.5,100.0,100.0,89.4,92.6,76.6,96.8,100.0,\n",
    "        97.9,93.3,95.7,87.5,86.2,83.0,72.3,83.3,92.6,97.9,96.8,87.2,63.4,76.6,95.7,100.0,92.6])\n",
    "\n",
    "\n",
    "#Resolução: \n",
    "N = 2.8 #Tamanho do intervalo\n",
    "R = int(np.ceil((np.amax(pres)-np.amin(pres))/N)) #quantidade de caixas"
   ]
  },
  {
   "cell_type": "code",
   "execution_count": 37,
   "metadata": {
    "collapsed": false
   },
   "outputs": [
    {
     "data": {
      "image/png": "[encoded data removed]",
      "text/plain": [
       "<matplotlib.figure.Figure at 0x1fbd5968c18>"
      ]
     },
     "metadata": {},
     "output_type": "display_data"
    }
   ],
   "source": [
    "x = plt.hist(pres,R, normed=True)"
   ]
  },
  {
   "cell_type": "code",
   "execution_count": 39,
   "metadata": {
    "collapsed": false
   },
   "outputs": [
    {
     "data": {
      "image/png": "[encoded data removed]",
      "text/plain": [
       "<matplotlib.figure.Figure at 0x1fbd5d01ba8>"
      ]
     },
     "metadata": {},
     "output_type": "display_data"
    }
   ],
   "source": [
    "pres2 = np.array([84.0,84.1,74.5,100.0,100.0,98.9,78.7,95.7,73.4,95.7,91.5,90.4,85.1,97.9,81.9,100.0,87.2,84.0,87.2,97.9,\n",
    "                  85.9,87.2,91.5,89.4,92.6,94.7,94.7,90.4,79.8,97.9,93.3,90.0,90.7,93.0,92.6,94.7,93.6,100.0,94.7,77.7,100.0,\n",
    "                  87.2,97.9,89.4,88.9,96.8,84.0,97.9,90.4,88.3,96.8,98.9,87.2,71.3,95.7,100.0,85.1,93.0,92.6,83.0,87.2,96.8,\n",
    "                  89.4,92.6,79.8,90.4,93.6,77.7,84.0,87.2,96.8,91.5,88.3,91.5,87.2,86.2,90.7,93.6,97.9,85.1,88.9,91.5,100.0,\n",
    "                  100.0,89.4,92.6,76.6,96.8,100.0,97.9,93.3,95.7,87.5,86.2,83.0,72.3,83.3,92.6,97.9,96.8,87.2,76.6,95.7,100.0,\n",
    "                  92.6,70.2,75])\n",
    "#Resolução: \n",
    "N2 = 1.5 #Tamanho do intervalo\n",
    "R2 = int(np.ceil((np.amax(pres)-np.amin(pres))/N)) #Quantidade de caixas\n",
    "\n",
    "trash = plt.hist(pres2,R2)"
   ]
  },
  {
   "cell_type": "code",
   "execution_count": null,
   "metadata": {
    "collapsed": true
   },
   "outputs": [],
   "source": []
  }
 ],
 "metadata": {
  "kernelspec": {
   "display_name": "Python 3",
   "language": "python",
   "name": "python3"
  },
  "language_info": {
   "codemirror_mode": {
    "name": "ipython",
    "version": 3
   },
   "file_extension": ".py",
   "mimetype": "text/x-python",
   "name": "python",
   "nbconvert_exporter": "python",
   "pygments_lexer": "ipython3",
   "version": "3.6.0"
  }
 },
 "nbformat": 4,
 "nbformat_minor": 2
}
